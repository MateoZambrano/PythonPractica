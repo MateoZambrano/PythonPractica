{
 "cells": [
  {
   "cell_type": "code",
   "execution_count": 13,
   "metadata": {},
   "outputs": [
    {
     "name": "stdout",
     "output_type": "stream",
     "text": [
      "(74088, 74088, 74088)\n"
     ]
    }
   ],
   "source": [
    "x = pow(42,3)\n",
    "y = pow(42,3)\n",
    "z = pow(42,3)\n",
    "escalar = x,y,z\n",
    "# for i in escalar:\n",
    "#     print (i)\n",
    "print (escalar)"
   ]
  },
  {
   "cell_type": "code",
   "execution_count": 16,
   "metadata": {},
   "outputs": [
    {
     "name": "stdout",
     "output_type": "stream",
     "text": [
      "6.48074069840786\n"
     ]
    }
   ],
   "source": [
    "import numpy as np\n",
    "\n",
    "escalar = np.sqrt(42)\n",
    "print(escalar)"
   ]
  },
  {
   "cell_type": "code",
   "execution_count": 17,
   "metadata": {},
   "outputs": [
    {
     "name": "stdout",
     "output_type": "stream",
     "text": [
      "[2 5 6 7]\n"
     ]
    }
   ],
   "source": [
    "vector = np.array([2,5,6,7])\n",
    "print(vector)"
   ]
  },
  {
   "cell_type": "code",
   "execution_count": 19,
   "metadata": {},
   "outputs": [
    {
     "name": "stdout",
     "output_type": "stream",
     "text": [
      "[[2 4]\n",
      " [3 6]\n",
      " [7 8]]\n"
     ]
    }
   ],
   "source": [
    "matriz = np.array([[2,4],[3,6],[7,8]])\n",
    "print(matriz)"
   ]
  },
  {
   "cell_type": "code",
   "execution_count": 22,
   "metadata": {},
   "outputs": [
    {
     "name": "stdout",
     "output_type": "stream",
     "text": [
      "[[[255 255 255]\n",
      "  [255 255 255]\n",
      "  [255 255 255]]\n",
      "\n",
      " [[  0   0   0]\n",
      "  [  0   0   0]\n",
      "  [  0   0   0]]\n",
      "\n",
      " [[128 128 128]\n",
      "  [128 128 128]\n",
      "  [128 128 128]]]\n"
     ]
    }
   ],
   "source": [
    "tensor = np.array([\n",
    "    [[255,255,255],[255,255,255],[255,255,255]],\n",
    "    [[0,0,0],[0,0,0],[0,0,0]],\n",
    "    [[128,128,128],[128,128,128],[128,128,128]]\n",
    "])\n",
    "print(tensor)"
   ]
  },
  {
   "cell_type": "code",
   "execution_count": 23,
   "metadata": {},
   "outputs": [],
   "source": [
    "%matplotlib inline\n",
    "import matplotlib.pyplot as plt"
   ]
  },
  {
   "cell_type": "code",
   "execution_count": 25,
   "metadata": {},
   "outputs": [
    {
     "data": {
      "text/plain": [
       "<function matplotlib.pyplot.show(close=None, block=None)>"
      ]
     },
     "execution_count": 25,
     "metadata": {},
     "output_type": "execute_result"
    },
    {
     "data": {
      "image/png": "[encoded data removed]",
      "text/plain": [
       "<Figure size 640x480 with 1 Axes>"
      ]
     },
     "metadata": {},
     "output_type": "display_data"
    }
   ],
   "source": [
    "plt.imshow(tensor, interpolation='nearest')\n",
    "plt.show"
   ]
  },
  {
   "cell_type": "code",
   "execution_count": 26,
   "metadata": {},
   "outputs": [],
   "source": [
    "\n",
    "tensor = np.array([\n",
    "    [[255,255,255],[255,255,255],[255,255,255]],\n",
    "    [[0,0,0],[0,0,0],[0,0,0]],\n",
    "    [[128,128,128],[128,128,128],[128,128,128]]\n",
    "])"
   ]
  },
  {
   "cell_type": "code",
   "execution_count": null,
   "metadata": {},
   "outputs": [],
   "source": []
  }
 ],
 "metadata": {
  "kernelspec": {
   "display_name": "Python 3.10.7 64-bit (microsoft store)",
   "language": "python",
   "name": "python3"
  },
  "language_info": {
   "codemirror_mode": {
    "name": "ipython",
    "version": 3
   },
   "file_extension": ".py",
   "mimetype": "text/x-python",
   "name": "python",
   "nbconvert_exporter": "python",
   "pygments_lexer": "ipython3",
   "version": "3.10.7"
  },
  "orig_nbformat": 4,
  "vscode": {
   "interpreter": {
    "hash": "a7dbb88c84ecda04e2dfa8176cb6708abf8c95c32934f510df16d1a1f4945387"
   }
  }
 },
 "nbformat": 4,
 "nbformat_minor": 2
}
